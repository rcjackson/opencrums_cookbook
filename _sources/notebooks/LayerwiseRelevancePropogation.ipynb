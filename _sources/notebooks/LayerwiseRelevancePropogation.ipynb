{
 "cells": [
  {
   "cell_type": "markdown",
   "id": "af467087",
   "metadata": {},
   "source": [
    "### Layerwise Relevance Propogation\n",
    "\n",
    "This notebook shows how to perform layerwise relevance propogation on a pretrained CNN network. "
   ]
  },
  {
   "cell_type": "markdown",
   "id": "ac8c3ef0",
   "metadata": {},
   "source": [
    "First, load the required libraries."
   ]
  },
  {
   "cell_type": "code",
   "execution_count": 1,
   "id": "bf6fb1df-57d0-4737-a640-4bd83be5383e",
   "metadata": {},
   "outputs": [
    {
     "name": "stderr",
     "output_type": "stream",
     "text": [
      "/home/rjackson/.conda/envs/pydda_env/lib/python3.9/site-packages/xarray/backends/cfgrib_.py:27: UserWarning: Failed to load cfgrib - most likely there is a problem accessing the ecCodes library. Try `import cfgrib` to get the full error message\n",
      "  warnings.warn(\n"
     ]
    },
    {
     "name": "stdout",
     "output_type": "stream",
     "text": [
      "%pylab is deprecated, use %matplotlib inline and import the required libraries.\n",
      "Populating the interactive namespace from numpy and matplotlib\n"
     ]
    },
    {
     "name": "stderr",
     "output_type": "stream",
     "text": [
      "/home/rjackson/.conda/envs/pydda_env/lib/python3.9/site-packages/IPython/core/magics/pylab.py:162: UserWarning: pylab import has clobbered these variables: ['datetime']\n",
      "`%matplotlib` prevents importing * from pylab and numpy\n",
      "  warn(\"pylab import has clobbered these variables: %s\"  % clobbered +\n"
     ]
    }
   ],
   "source": [
    "import tensorflow as tf\n",
    "import pandas as pd\n",
    "import xarray as xr\n",
    "from glob import glob\n",
    "from sklearn.preprocessing import StandardScaler\n",
    "from datetime import datetime, timedelta\n",
    "from sklearn.model_selection import train_test_split\n",
    "from sklearn.metrics import confusion_matrix\n",
    "import cartopy.crs as ccrs\n",
    "import pickle\n",
    "%pylab inline"
   ]
  },
  {
   "cell_type": "markdown",
   "id": "f42ef4a9",
   "metadata": {},
   "source": [
    "## LayerwiseRelevancePropogation class\n",
    "\n",
    "This class will do the LRP on a pretrained model. Right now, this class supports:\n",
    "\n",
    "    * Conv2D, Dense, Add, BatchNormalization, and Pooling layers\n",
    "    * Multiple branches within the neural network and multiple inputs\n",
    "    "
   ]
  },
  {
   "cell_type": "code",
   "execution_count": 2,
   "id": "dce9da0d-a1d3-4cee-8bad-31bb688d2a48",
   "metadata": {},
   "outputs": [],
   "source": [
    "class LayerwiseRelevancePropogation():\n",
    "    def __init__(self, model):\n",
    "        self.model = model\n",
    "        self.epsilon = 1e-5\n",
    "        # Count the number of input layers --> Number of CNN networks\n",
    "        self.no_inputs = 0\n",
    "        self.pooling_type = \"max\"\n",
    "        for x in model.layers:\n",
    "            if 'input_' in x.name:\n",
    "                self.no_inputs += 1\n",
    "        self.alpha = 3\n",
    "        self.beta = 1\n",
    "        \n",
    "    def backprop_dense(self, x, w, r):\n",
    "        w_pos = tf.maximum(w, tf.zeros_like(w))\n",
    "        z = tf.matmul(x, w_pos) + self.epsilon\n",
    "        s = r / z\n",
    "        c_p = tf.matmul(s, tf.transpose(w_pos))\n",
    "\n",
    "        w_neg = tf.minimum(w, tf.zeros_like(w))\n",
    "        z = tf.matmul(x, w_neg) + self.epsilon\n",
    "        s = r / z\n",
    "        c_n = tf.matmul(s, tf.transpose(w_neg))\n",
    "        return (self.alpha * c_p + self.beta * c_n) * x\n",
    "\n",
    "    def backprop_flatten(self, x, r):\n",
    "        return tf.reshape(r, tf.shape(x))\n",
    "    \n",
    "    def relprop_add(self, x, r):\n",
    "        z = tf.add_n(x) + self.epsilon\n",
    "        s = r / z\n",
    "        c = s\n",
    "        return c * x\n",
    "        \n",
    "    def relprop_batchnorm(self, x, r, w):\n",
    "        gamma = w[0]\n",
    "        beta = w[1]\n",
    "        mmean = w[2]\n",
    "        mvar = w[3]\n",
    "        z = tf.nn.batch_normalization(x, mmean, mvar, beta, gamma, self.epsilon) + self.epsilon\n",
    "        s = r / z\n",
    "        with tf.GradientTape() as g:\n",
    "            g.watch(s)\n",
    "            R = tf.nn.batch_normalization(s, mmean, mvar, beta, gamma, self.epsilon)\n",
    "        c = g.gradient(R, s)\n",
    "        return c * x\n",
    "     \n",
    "    def relprop_conv(self, x, r, w, strides=(1, 1, 1, 1), padding='SAME'):\n",
    "        if len(strides) == 2:\n",
    "            strides = (1, strides[0], strides[1], 1)\n",
    "        w_pos = tf.maximum(w, 0.0)\n",
    "        z = tf.nn.conv2d(x, w_pos, strides, padding) + self.epsilon\n",
    "        s = r / z\n",
    "        c_p = tf.compat.v1.nn.conv2d_backprop_input(tf.shape(x), w_pos, s, strides, padding)\n",
    "\n",
    "        w_neg = tf.minimum(w, 0.0)\n",
    "        z = tf.nn.conv2d(x, w_neg, strides, padding) + self.epsilon\n",
    "        s = r / z\n",
    "        c_n = tf.compat.v1.nn.conv2d_backprop_input(tf.shape(x), w_neg, s, strides, padding)\n",
    "\n",
    "        return (self.alpha * c_p + self.beta * c_n) * x\n",
    "\n",
    "    def relprop_pool(self, x, r, ksize=(1, 2, 2, 1), strides=(1, 2, 2, 1), padding='SAME'):\n",
    "        if len(strides) == 2:\n",
    "            strides = (1, strides[0], strides[1], 1)\n",
    "        if len(ksize) == 2:\n",
    "            ksize = (1, ksize[0], ksize[1], 1)\n",
    "        if self.pooling_type == 'avg':\n",
    "            z = tf.nn.avg_pool(x, ksize, strides, padding) + self.epsilon\n",
    "            s = r / z\n",
    "            with tf.GradientTape() as g:\n",
    "                g.watch(s)\n",
    "                R = tf.nn.avg_pool(s, ksize, strides, padding)\n",
    "            c = g.gradient(R, s)\n",
    "        elif self.pooling_type == 'max':\n",
    "            z = tf.nn.max_pool(x, ksize, strides, padding) + self.epsilon\n",
    "            s = r / z\n",
    "            c = tf.raw_ops.MaxPoolGradV2(orig_input=x, orig_output=z, grad=s, ksize=ksize, strides=strides, padding=padding)\n",
    "        else:\n",
    "            raise Exception('Error: no such unpooling operation.')\n",
    "        return c * x\n",
    "\n",
    "    def calc_relevance(self, inputs, outputs):\n",
    "        if len(list(inputs.keys())) != self.no_inputs:\n",
    "            raise InputError(\"Not enough inputs for model. Need %d inputs\" % self.no_inputs)\n",
    "        cur_layer = self.model.layers[-1]\n",
    "        cur_relevance = outputs\n",
    "        output_relevances = {}\n",
    "        \n",
    "        output_relevances[\"output\"] = tf.constant(outputs.astype(np.float32))\n",
    "        # Evaluate x for each layer:\n",
    "        x_layers = inputs.copy()\n",
    "        for my_layer in self.model.layers:\n",
    "            if not isinstance(my_layer.input, list):\n",
    "                x_layers[my_layer.name.split(\"/\")[0]] = my_layer(x_layers[my_layer.input.name.split(\"/\")[0]])\n",
    "            else:\n",
    "                x_layers[my_layer.name.split(\"/\")[0]] = my_layer(list(x_layers[y.name.split(\"/\")[0]] for y in my_layer.input))\n",
    "                \n",
    "        x_layers[\"output\"] = tf.constant(outputs.astype(np.float32))\n",
    "        # Backpropgate relevances\n",
    "        for my_layer in self.model.layers[-1:0:-1]:\n",
    "            if not isinstance(my_layer.input, list):\n",
    "                inp_layer_name = my_layer.input.name.split(\"/\")[0]\n",
    "            \n",
    "            if 'add' in my_layer.name:\n",
    "                x_list = [x_layers[g.name.split(\"/\")[0]] for g in my_layer.input]\n",
    "                out_layer_name = my_layer._outbound_nodes[0].outputs.name.split(\"/\")[0]\n",
    "                add_relevances = tf.split(self.relprop_add(\n",
    "                    x_list, output_relevances[out_layer_name]), self.no_inputs, axis=0)\n",
    "                continue\n",
    "            \n",
    "\n",
    "            inp_layer = self.model.get_layer(inp_layer_name)\n",
    "            try:\n",
    "                out_layer_name = my_layer._outbound_nodes[0].outputs.name.split(\"/\")[0]\n",
    "            except IndexError:\n",
    "                out_layer_name = \"output\"\n",
    "            \n",
    "            if 'dense' in my_layer.name or 'class' in my_layer.name:\n",
    "                output_relevances[my_layer.name.split(\"/\")[0]] = self.backprop_dense(\n",
    "                    x_layers[inp_layer_name],\n",
    "                    my_layer.trainable_weights[0],\n",
    "                    output_relevances[out_layer_name])\n",
    "            elif 'conv2d' in my_layer.name:\n",
    "                \n",
    "                output_relevances[my_layer.name.split(\"/\")[0]] = self.relprop_conv(\n",
    "                    x_layers[inp_layer_name],\n",
    "                    output_relevances[out_layer_name],\n",
    "                    my_layer.trainable_weights[0], \n",
    "                    strides=my_layer.strides, \n",
    "                    padding=my_layer.padding.upper())\n",
    "            elif 'batch_normalization' in my_layer.name:\n",
    "                output_relevances[my_layer.name.split(\"/\")[0]] = self.relprop_batchnorm(\n",
    "                        x_layers[inp_layer_name], \n",
    "                        output_relevances[out_layer_name],\n",
    "                        my_layer.trainable_weights[0])\n",
    "            elif 'flatten' in my_layer.name:\n",
    "                name = my_layer.name.split(\"/\")[0]\n",
    "                if name[-1] == \"n\":\n",
    "                    count = 0\n",
    "                else:\n",
    "                    count = int(name.split(\"_\")[1])\n",
    "                output_relevances[my_layer.name.split(\"/\")[0]] = self.backprop_flatten(\n",
    "                    x_layers[inp_layer_name],\n",
    "                    add_relevances[count])\n",
    "            elif 'max_pooling2d' in my_layer.name:\n",
    "                output_relevances[my_layer.name.split(\"/\")[0]] = self.relprop_pool(\n",
    "                    x_layers[inp_layer_name],\n",
    "                    output_relevances[out_layer_name], my_layer.pool_size,\n",
    "                    my_layer.strides, my_layer.padding.upper())\n",
    "            elif 'input' in my_layer.name:\n",
    "                output_relevances[my_layer.name] = output_relevances[out_layer_name]\n",
    "            \n",
    "        return output_relevances"
   ]
  },
  {
   "cell_type": "markdown",
   "id": "9b4009fc",
   "metadata": {},
   "source": [
    "# Loading the input model\n",
    "\n",
    "Here, we load the input model that we are going to perform the relevance calculations on. We will use the EPA AQI classifier model from earlier on in order to do so. The\n",
    "*hour* variable specified how far in the future we are predicting."
   ]
  },
  {
   "cell_type": "code",
   "execution_count": 3,
   "id": "e8900be8-bca8-447f-8309-248fb87605ab",
   "metadata": {},
   "outputs": [
    {
     "name": "stderr",
     "output_type": "stream",
     "text": [
      "2022-10-03 13:14:47.455652: I tensorflow/core/platform/cpu_feature_guard.cc:151] This TensorFlow binary is optimized with oneAPI Deep Neural Network Library (oneDNN) to use the following CPU instructions in performance-critical operations:  SSE4.1 SSE4.2 AVX AVX2 FMA\n",
      "To enable them in other operations, rebuild TensorFlow with the appropriate compiler flags.\n",
      "2022-10-03 13:14:47.991309: I tensorflow/core/common_runtime/gpu/gpu_device.cc:1525] Created device /job:localhost/replica:0/task:0/device:GPU:0 with 38396 MB memory:  -> device: 0, name: NVIDIA A100-SXM4-40GB, pci bus id: 0000:07:00.0, compute capability: 8.0\n"
     ]
    }
   ],
   "source": [
    "my_model = tf.keras.models.load_model('/lcrc/group/earthscience/rjackson/opencrums/models/classifier')\n",
    "hour = 0"
   ]
  },
  {
   "cell_type": "markdown",
   "id": "45587ec5",
   "metadata": {},
   "source": [
    "## Load the input data\n",
    "\n",
    "This code will first load the epa air now .csv data into the air_now_df pandas DataFrame.  Then, the code will load the MERRA2 data in the specified path. Note: the MERRA2 data are preprocessed to include only the relevant domain of interest in order to save training time and memory."
   ]
  },
  {
   "cell_type": "code",
   "execution_count": 4,
   "id": "7e3718a2-2f3d-4830-9372-6e281e3fef2b",
   "metadata": {
    "tags": []
   },
   "outputs": [
    {
     "name": "stdout",
     "output_type": "stream",
     "text": [
      "1\n"
     ]
    },
    {
     "name": "stderr",
     "output_type": "stream",
     "text": [
      "/home/rjackson/.conda/envs/pydda_env/lib/python3.9/site-packages/xarray/backends/plugins.py:61: RuntimeWarning: Engine 'cfgrib' loading failed:\n",
      "Cannot find the ecCodes library\n",
      "  warnings.warn(f\"Engine {name!r} loading failed:\\n{ex}\", RuntimeWarning)\n"
     ]
    },
    {
     "name": "stdout",
     "output_type": "stream",
     "text": [
      "<xarray.Dataset>\n",
      "Dimensions:    (lon: 32, lat: 20, time: 90744)\n",
      "Coordinates:\n",
      "  * lon        (lon) float64 -105.0 -104.4 -103.8 ... -86.88 -86.25 -85.62\n",
      "  * lat        (lat) float64 25.0 25.5 26.0 26.5 27.0 ... 33.0 33.5 34.0 34.5\n",
      "  * time       (time) datetime64[ns] 2010-01-01T00:30:00 ... 2020-05-08T23:30:00\n",
      "Data variables:\n",
      "    SSCMASS    (time, lat, lon) float32 dask.array<chunksize=(8760, 20, 32), meta=np.ndarray>\n",
      "    SSCMASS25  (time, lat, lon) float32 dask.array<chunksize=(8760, 20, 32), meta=np.ndarray>\n",
      "(64632,) (64632,)\n",
      "<xarray.Dataset>\n",
      "Dimensions:   (lon: 32, lat: 20, time: 90744)\n",
      "Coordinates:\n",
      "  * lon       (lon) float64 -105.0 -104.4 -103.8 -103.1 ... -86.88 -86.25 -85.62\n",
      "  * lat       (lat) float64 25.0 25.5 26.0 26.5 27.0 ... 33.0 33.5 34.0 34.5\n",
      "  * time      (time) datetime64[ns] 2010-01-01T00:30:00 ... 2020-05-08T23:30:00\n",
      "Data variables:\n",
      "    SO4CMASS  (time, lat, lon) float32 dask.array<chunksize=(8760, 20, 32), meta=np.ndarray>\n",
      "(64632,) (64632,)\n",
      "<xarray.Dataset>\n",
      "Dimensions:   (lon: 32, lat: 20, time: 90744)\n",
      "Coordinates:\n",
      "  * lon       (lon) float64 -105.0 -104.4 -103.8 -103.1 ... -86.88 -86.25 -85.62\n",
      "  * lat       (lat) float64 25.0 25.5 26.0 26.5 27.0 ... 33.0 33.5 34.0 34.5\n",
      "  * time      (time) datetime64[ns] 2010-01-01T00:30:00 ... 2020-05-08T23:30:00\n",
      "Data variables:\n",
      "    SO2CMASS  (time, lat, lon) float32 dask.array<chunksize=(8760, 20, 32), meta=np.ndarray>\n",
      "(64632,) (64632,)\n",
      "<xarray.Dataset>\n",
      "Dimensions:  (lon: 32, lat: 20, time: 90744)\n",
      "Coordinates:\n",
      "  * lon      (lon) float64 -105.0 -104.4 -103.8 -103.1 ... -86.88 -86.25 -85.62\n",
      "  * lat      (lat) float64 25.0 25.5 26.0 26.5 27.0 ... 32.5 33.0 33.5 34.0 34.5\n",
      "  * time     (time) datetime64[ns] 2010-01-01T00:30:00 ... 2020-05-08T23:30:00\n",
      "Data variables:\n",
      "    OCCMASS  (time, lat, lon) float32 dask.array<chunksize=(8760, 20, 32), meta=np.ndarray>\n",
      "(64632,) (64632,)\n",
      "<xarray.Dataset>\n",
      "Dimensions:    (lon: 32, lat: 20, time: 90744)\n",
      "Coordinates:\n",
      "  * lon        (lon) float64 -105.0 -104.4 -103.8 ... -86.88 -86.25 -85.62\n",
      "  * lat        (lat) float64 25.0 25.5 26.0 26.5 27.0 ... 33.0 33.5 34.0 34.5\n",
      "  * time       (time) datetime64[ns] 2010-01-01T00:30:00 ... 2020-05-08T23:30:00\n",
      "Data variables:\n",
      "    DUCMASS    (time, lat, lon) float32 dask.array<chunksize=(8760, 20, 32), meta=np.ndarray>\n",
      "    DUCMASS25  (time, lat, lon) float32 dask.array<chunksize=(8760, 20, 32), meta=np.ndarray>\n",
      "(64632,) (64632,)\n",
      "<xarray.Dataset>\n",
      "Dimensions:   (lon: 32, lat: 20, time: 90744)\n",
      "Coordinates:\n",
      "  * lon       (lon) float64 -105.0 -104.4 -103.8 -103.1 ... -86.88 -86.25 -85.62\n",
      "  * lat       (lat) float64 25.0 25.5 26.0 26.5 27.0 ... 33.0 33.5 34.0 34.5\n",
      "  * time      (time) datetime64[ns] 2010-01-01T00:30:00 ... 2020-05-08T23:30:00\n",
      "Data variables:\n",
      "    DMSCMASS  (time, lat, lon) float32 dask.array<chunksize=(8760, 20, 32), meta=np.ndarray>\n",
      "(64632,) (64632,)\n",
      "<xarray.Dataset>\n",
      "Dimensions:  (lon: 32, lat: 20, time: 90744)\n",
      "Coordinates:\n",
      "  * lon      (lon) float64 -105.0 -104.4 -103.8 -103.1 ... -86.88 -86.25 -85.62\n",
      "  * lat      (lat) float64 25.0 25.5 26.0 26.5 27.0 ... 32.5 33.0 33.5 34.0 34.5\n",
      "  * time     (time) datetime64[ns] 2010-01-01T00:30:00 ... 2020-05-08T23:30:00\n",
      "Data variables:\n",
      "    BCCMASS  (time, lat, lon) float32 dask.array<chunksize=(8760, 20, 32), meta=np.ndarray>\n",
      "(64632,) (64632,)\n"
     ]
    }
   ],
   "source": [
    "air_now_data = glob('/lcrc/group/earthscience/rjackson/epa_air_now/*.csv')\n",
    "air_now_df = pd.concat(map(pd.read_csv, air_now_data))\n",
    "air_now_df['datetime'] = pd.to_datetime(air_now_df['DateObserved'] + ' 00:00:00')\n",
    "air_now_df = air_now_df.set_index('datetime')\n",
    "air_now_df = air_now_df.sort_index()\n",
    "print(air_now_df['CategoryNumber'].values.min())\n",
    "\n",
    "batch_size = 16\n",
    "\n",
    "def get_air_now_label(time):\n",
    "    if np.min(np.abs((air_now_df.index - time))) > timedelta(days=1):\n",
    "        return np.nan\n",
    "    ind = np.argmin(np.abs(air_now_df.index - time))\n",
    "    return air_now_df['CategoryNumber'].values[ind]\n",
    "\n",
    "def load_data(species):\n",
    "    ds = xr.open_mfdataset('/lcrc/group/earthscience/rjackson/MERRA2/hou_reduced/%sCMASS*.nc' % species).sortby('time')\n",
    "    print(ds)\n",
    "    times = np.array(list(map(pd.to_datetime, ds.time.values)))\n",
    "    x = ds[\"%sCMASS\" % species].values\n",
    "    old_shape = x.shape\n",
    "    scaler = StandardScaler()\n",
    "    scaler.fit(np.reshape(x, (old_shape[0], old_shape[1] * old_shape[2])))\n",
    "    x = scaler.transform(\n",
    "            np.reshape(x, (old_shape[0], old_shape[1] * old_shape[2])))\n",
    "    x = np.reshape(x, old_shape)\n",
    "    inputs = np.zeros((old_shape[0], old_shape[1], old_shape[2], 3))\n",
    "    inputs[:, :, :, 0] = x\n",
    "    ds.close()\n",
    "    if species == \"SO4\" or species == \"DMS\" or species == \"SO2\":\n",
    "       inp = \"SU\"\n",
    "    else:\n",
    "       inp = species\n",
    "    ds = xr.open_mfdataset('/lcrc/group/earthscience/rjackson/MERRA2/hou_reduced/%sFLUXU*.nc' % inp).sortby('time')\n",
    "    x2 = ds[\"%sFLUXU\" % inp].values\n",
    "    scaler = StandardScaler()\n",
    "    scaler.fit(np.reshape(x2, (old_shape[0], old_shape[1] * old_shape[2])))\n",
    "    x2 = scaler.transform(\n",
    "            np.reshape(x2, (old_shape[0], old_shape[1] * old_shape[2])))\n",
    "    x2 = np.reshape(x2, old_shape)\n",
    "    inputs[:, :, :, 1] = x2\n",
    "    ds.close()\n",
    "    ds = xr.open_mfdataset('/lcrc/group/earthscience/rjackson/MERRA2/hou_reduced/%sFLUXV*.nc' % inp).sortby('time')\n",
    "    x2 = ds[\"%sFLUXV\" % inp].values\n",
    "    scaler = StandardScaler()\n",
    "    scaler.fit(np.reshape(x2, (old_shape[0], old_shape[1] * old_shape[2])))\n",
    "    x2 = scaler.transform(\n",
    "            np.reshape(x2, (old_shape[0], old_shape[1] * old_shape[2])))\n",
    "    x2 = np.reshape(x2, old_shape)\n",
    "    inputs[:, :, :, 2] = x2\n",
    "    classification = np.array(list(map(get_air_now_label, times)))\n",
    "    where_valid = np.isfinite(classification)\n",
    "    inputs = inputs[where_valid, :, :, :]\n",
    "    classification = classification[where_valid] - 1\n",
    "    times = times[where_valid]\n",
    "    if hour > 0:\n",
    "        classification = classification[hour:]\n",
    "        inputs = inputs[:(-hour), :, : :]\n",
    "        times = times[hour:]\n",
    "    print(times.shape, classification.shape)\n",
    "    y = np.concatenate([tf.one_hot(classification, 5).numpy(), times[:, np.newaxis]], axis=1)\n",
    "    shape = inputs.shape\n",
    "    x_dataset_train = {'input_%sMASS' % species: inputs[:, :, :, 0],\n",
    "            'input_%sFLUXU' % inp: inputs[:, :, :, 1],\n",
    "            'input_%sFLUXV' % inp: inputs[:, :, :, 2]}\n",
    "\n",
    "    return x_dataset_train, y[:,:5], shape, y[:,5]\n",
    "\n",
    "x_ds_train = {}\n",
    "x_ds_test = {}\n",
    "y_train = []\n",
    "y_test = []\n",
    "species_list = ['SS', 'SO4', 'SO2', 'OC','DU', 'DMS', 'BC']\n",
    "for species in species_list:\n",
    "    x_ds_train1, y_train, shape, t_train = load_data(species)\n",
    "    x_ds_train.update(x_ds_train1)\n",
    "\n",
    "for key in x_ds_train.keys():\n",
    "    x_ds_train[key] = x_ds_train[key][:, :, :, np.newaxis]"
   ]
  },
  {
   "cell_type": "markdown",
   "id": "2691c338",
   "metadata": {},
   "source": [
    "## Generate model predictions\n",
    "\n",
    "Use the keras .predict to generate predictions on a set of test data."
   ]
  },
  {
   "cell_type": "code",
   "execution_count": 5,
   "id": "6d65b54a-37c3-4ccb-8d50-c784401d22ee",
   "metadata": {},
   "outputs": [
    {
     "name": "stderr",
     "output_type": "stream",
     "text": [
      "2022-10-03 13:19:49.513018: I tensorflow/stream_executor/cuda/cuda_dnn.cc:366] Loaded cuDNN version 8201\n",
      "2022-10-03 13:19:53.341695: I tensorflow/core/platform/default/subprocess.cc:304] Start cannot spawn child process: No such file or directory\n",
      "2022-10-03 13:19:57.263249: I tensorflow/stream_executor/cuda/cuda_blas.cc:1774] TensorFloat-32 will be used for the matrix multiplication. This will only be logged once.\n"
     ]
    }
   ],
   "source": [
    "y_predict = my_model.predict(x_ds_train)"
   ]
  },
  {
   "cell_type": "code",
   "execution_count": 6,
   "id": "db9b35be-6b23-4e57-912e-7d581e291c30",
   "metadata": {},
   "outputs": [],
   "source": [
    "y_predicts = y_predict.argmax(axis=1)\n",
    "y_tests = y_train.argmax(axis=1)\n",
    "matrix = confusion_matrix(y_predicts, y_tests)"
   ]
  },
  {
   "cell_type": "markdown",
   "id": "a347ce47",
   "metadata": {},
   "source": [
    "## Test model accuracy\n",
    "\n",
    "Generate a confusion matrix showing the predicted vs actual AQI values. We want to check that the confusion matrix shows that the model can accurately predict AQI before performing the layerwise relevance propogation to ensure that the variable relevances are going towards accurate predictions."
   ]
  },
  {
   "cell_type": "code",
   "execution_count": 7,
   "id": "12e94d64-7807-4b69-81ea-39f4598ff2f6",
   "metadata": {},
   "outputs": [
    {
     "name": "stderr",
     "output_type": "stream",
     "text": [
      "/tmp/ipykernel_1281536/1294337932.py:7: UserWarning: FixedFormatter should only be used together with FixedLocator\n",
      "  ax.set_xticklabels(['', 'Good', 'Moderate', 'Unhealthy Sens.', 'Unhealthy', 'Hazardous'])\n",
      "/tmp/ipykernel_1281536/1294337932.py:8: UserWarning: FixedFormatter should only be used together with FixedLocator\n",
      "  ax.set_yticklabels(['', 'Good', 'Moderate', 'Unhealthy Sens.', 'Unhealthy', 'Hazardous'])\n"
     ]
    },
    {
     "data": {
      "image/png": "[encoded data removed]",
      "text/plain": [
       "<Figure size 504x504 with 1 Axes>"
      ]
     },
     "metadata": {
      "needs_background": "light"
     },
     "output_type": "display_data"
    }
   ],
   "source": [
    "#matrix[matrix == 0] = np.nan\n",
    "fig = plt.figure(figsize=(7,7))\n",
    "ax = plt.axes()\n",
    "ax.matshow(matrix, cmap='Reds')\n",
    "for (i, j), z in np.ndenumerate(matrix):\n",
    "    ax.text(j, i, '{:d}'.format(int(z)), ha='center', va='center', color='k', fontsize=16)\n",
    "ax.set_xticklabels(['', 'Good', 'Moderate', 'Unhealthy Sens.', 'Unhealthy', 'Hazardous'])\n",
    "ax.set_yticklabels(['', 'Good', 'Moderate', 'Unhealthy Sens.', 'Unhealthy', 'Hazardous'])\n",
    "fig.savefig('confusion_matrix_aqi_%dhr.png' % hour)"
   ]
  },
  {
   "cell_type": "markdown",
   "id": "adf2e7ec",
   "metadata": {},
   "source": [
    "## Generate all of the relevances\n",
    "\n",
    "These next two code blocks will generate the relevance information. The relevance dictionaries are stored in pickle files that contain the dictionary of relevances for each of the input variables and model layers as well as the time of each sample."
   ]
  },
  {
   "cell_type": "code",
   "execution_count": 8,
   "id": "e5a4bfd5-f987-4e51-ad5c-0ea1e89d5ea4",
   "metadata": {},
   "outputs": [],
   "source": [
    "def slice_input_ds(x: dict, y, t, start, end):\n",
    "    x_new = {}\n",
    "    for key in x.keys():\n",
    "        x_new[key] = x[key][start:end, :, :, :].copy()\n",
    "    y_new = y[start:end, :].copy()\n",
    "    t_test = t[start:end].copy()\n",
    "    return x_new, y_new, t_test"
   ]
  },
  {
   "cell_type": "code",
   "execution_count": 12,
   "id": "c623a0e0-6b29-4ba3-97c3-a12fa95c5392",
   "metadata": {},
   "outputs": [
    {
     "name": "stdout",
     "output_type": "stream",
     "text": [
      "100\n",
      "200\n",
      "300\n",
      "400\n",
      "500\n",
      "600\n",
      "700\n",
      "800\n",
      "900\n",
      "1000\n",
      "1100\n",
      "1200\n",
      "1300\n",
      "1400\n",
      "1500\n",
      "1600\n",
      "1700\n",
      "1800\n",
      "1900\n",
      "2000\n",
      "2100\n",
      "2200\n",
      "2300\n",
      "2400\n",
      "2500\n",
      "2600\n",
      "2700\n",
      "2800\n",
      "2900\n",
      "3000\n",
      "3100\n",
      "3200\n",
      "3300\n",
      "3400\n",
      "3500\n"
     ]
    },
    {
     "ename": "KeyboardInterrupt",
     "evalue": "",
     "output_type": "error",
     "traceback": [
      "\u001b[0;31m---------------------------------------------------------------------------\u001b[0m",
      "\u001b[0;31mKeyboardInterrupt\u001b[0m                         Traceback (most recent call last)",
      "Input \u001b[0;32mIn [12]\u001b[0m, in \u001b[0;36m<cell line: 2>\u001b[0;34m()\u001b[0m\n\u001b[1;32m      6\u001b[0m relevance[\u001b[38;5;124m'\u001b[39m\u001b[38;5;124mtime\u001b[39m\u001b[38;5;124m'\u001b[39m] \u001b[38;5;241m=\u001b[39m t_slice\n\u001b[1;32m      7\u001b[0m \u001b[38;5;28;01mwith\u001b[39;00m \u001b[38;5;28mopen\u001b[39m(\u001b[38;5;124m'\u001b[39m\u001b[38;5;124mrelevances/relevance\u001b[39m\u001b[38;5;132;01m%d\u001b[39;00m\u001b[38;5;124m-\u001b[39m\u001b[38;5;132;01m%s\u001b[39;00m\u001b[38;5;124mhr.pickle\u001b[39m\u001b[38;5;124m'\u001b[39m \u001b[38;5;241m%\u001b[39m (i, hour), mode\u001b[38;5;241m=\u001b[39m\u001b[38;5;124m'\u001b[39m\u001b[38;5;124mwb\u001b[39m\u001b[38;5;124m'\u001b[39m) \u001b[38;5;28;01mas\u001b[39;00m f:\n\u001b[0;32m----> 8\u001b[0m     \u001b[43mpickle\u001b[49m\u001b[38;5;241;43m.\u001b[39;49m\u001b[43mdump\u001b[49m\u001b[43m(\u001b[49m\u001b[43mrelevance\u001b[49m\u001b[43m,\u001b[49m\u001b[43m \u001b[49m\u001b[43mf\u001b[49m\u001b[43m)\u001b[49m\n",
      "File \u001b[0;32m~/.conda/envs/pydda_env/lib/python3.9/site-packages/tensorflow/python/framework/ops.py:1073\u001b[0m, in \u001b[0;36m_EagerTensorBase.__reduce__\u001b[0;34m(self)\u001b[0m\n\u001b[1;32m   1070\u001b[0m   \u001b[38;5;28;01melse\u001b[39;00m:\n\u001b[1;32m   1071\u001b[0m     \u001b[38;5;28;01mreturn\u001b[39;00m \u001b[38;5;124m\"\u001b[39m\u001b[38;5;124m<unprintable>\u001b[39m\u001b[38;5;124m\"\u001b[39m\u001b[38;5;241m.\u001b[39m\u001b[38;5;21m__format__\u001b[39m(format_spec)\n\u001b[0;32m-> 1073\u001b[0m \u001b[38;5;28;01mdef\u001b[39;00m \u001b[38;5;21m__reduce__\u001b[39m(\u001b[38;5;28mself\u001b[39m):\n\u001b[1;32m   1074\u001b[0m   \u001b[38;5;28;01mreturn\u001b[39;00m convert_to_tensor, (\u001b[38;5;28mself\u001b[39m\u001b[38;5;241m.\u001b[39m_numpy(),)\n\u001b[1;32m   1076\u001b[0m \u001b[38;5;28;01mdef\u001b[39;00m \u001b[38;5;21m__copy__\u001b[39m(\u001b[38;5;28mself\u001b[39m):\n\u001b[1;32m   1077\u001b[0m   \u001b[38;5;66;03m# Eager Tensors are immutable so it's safe to return themselves as a copy.\u001b[39;00m\n",
      "\u001b[0;31mKeyboardInterrupt\u001b[0m: "
     ]
    }
   ],
   "source": [
    "lrp = LayerwiseRelevancePropogation(my_model)\n",
    "for i in range(0, y_tests.shape[0], 100):\n",
    "    x_slice, y_slice, t_slice = slice_input_ds(x_ds_train, y_train, t_train, i, i + 100)\n",
    "    relevance = lrp.calc_relevance(x_slice, y_slice)\n",
    "    relevance['time'] = t_slice\n",
    "    with open('relevances/relevance%d-%shr.pickle' % (i, hour), mode='wb') as f:\n",
    "        pickle.dump(relevance, f)"
   ]
  },
  {
   "cell_type": "code",
   "execution_count": null,
   "id": "883d6e92-ab5a-4eb3-b59c-d76d546b8b44",
   "metadata": {},
   "outputs": [],
   "source": [
    "relevance.keys()"
   ]
  },
  {
   "cell_type": "code",
   "execution_count": null,
   "id": "58c15c4d-3eb6-478d-be68-14850a33cee3",
   "metadata": {},
   "outputs": [],
   "source": []
  }
 ],
 "metadata": {
  "kernelspec": {
   "display_name": "Python 3 (ipykernel)",
   "language": "python",
   "name": "python3"
  },
  "language_info": {
   "codemirror_mode": {
    "name": "ipython",
    "version": 3
   },
   "file_extension": ".py",
   "mimetype": "text/x-python",
   "name": "python",
   "nbconvert_exporter": "python",
   "pygments_lexer": "ipython3",
   "version": "3.9.12"
  }
 },
 "nbformat": 4,
 "nbformat_minor": 5
}
