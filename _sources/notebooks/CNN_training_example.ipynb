{
 "cells": [
  {
   "cell_type": "markdown",
   "id": "4c5e6435-fc49-4873-8313-0208b4daa4c4",
   "metadata": {},
   "source": [
    "### Code for training Convolutional Neural Network\n",
    "\n",
    "First, load the required libraries."
   ]
  },
  {
   "cell_type": "code",
   "execution_count": 1,
   "id": "2d997b46",
   "metadata": {},
   "outputs": [
    {
     "name": "stderr",
     "output_type": "stream",
     "text": [
      "/home/rjackson/.conda/envs/pydda_env/lib/python3.9/site-packages/xarray/backends/cfgrib_.py:27: UserWarning: Failed to load cfgrib - most likely there is a problem accessing the ecCodes library. Try `import cfgrib` to get the full error message\n",
      "  warnings.warn(\n"
     ]
    }
   ],
   "source": [
    "import tensorflow as tf\n",
    "import pandas as pd\n",
    "import xarray as xr\n",
    "import glob as glob\n",
    "import numpy as np\n",
    "import sys\n",
    "import pickle\n",
    "\n",
    "\n",
    "from datetime import timedelta, datetime\n",
    "from tensorflow.keras.layers import BatchNormalization\n",
    "from tensorflow.keras.layers import Input, Conv2D, MaxPooling2D, UpSampling2D, Flatten, Reshape, Add, ReLU, Conv2DTranspose, Dense, Dropout, BatchNormalization\n",
    "from tensorflow.keras.callbacks import ModelCheckpoint, EarlyStopping, ModelCheckpoint, ReduceLROnPlateau\n",
    "from tensorflow.keras.optimizers import Adam\n",
    "from tensorflow.keras import Model\n",
    "from tensorflow.keras.models import load_model\n",
    "from tensorflow.keras.regularizers import l2\n",
    "from sklearn.preprocessing import StandardScaler\n",
    "from sklearn.model_selection import train_test_split\n",
    "from deephyper.problem import HpProblem\n",
    "from deephyper.evaluator import Evaluator\n",
    "from deephyper.evaluator.callback import LoggerCallback\n",
    "from deephyper.search.hps import AMBS\n",
    "from imblearn.over_sampling import RandomOverSampler\n",
    "from sklearn.metrics import confusion_matrix, ConfusionMatrixDisplay\n"
   ]
  },
  {
   "cell_type": "markdown",
   "id": "32bab506-7b59-4e03-bcb4-34c5e7c16cbe",
   "metadata": {},
   "source": [
    "Next, we load the EPA AirNow data into a Pandas dataframe. "
   ]
  },
  {
   "cell_type": "code",
   "execution_count": 10,
   "id": "dda44276",
   "metadata": {},
   "outputs": [],
   "source": [
    "air_now_data = glob.glob(\n",
    "        '/lcrc/group/earthscience/rjackson/epa_air_now/*.csv')\n",
    "air_now_df = pd.concat(map(pd.read_csv, air_now_data))\n",
    "air_now_df['datetime'] = pd.to_datetime(\n",
    "        air_now_df['DateObserved'] + ' 00:00:00')\n",
    "air_now_df = air_now_df.set_index('datetime')\n",
    "air_now_df = air_now_df.sort_index()\n",
    "air_now_df = air_now_df[air_now_df['ParameterName'] == \"PM2.5\"]\n",
    "air_now_label = xr.Dataset({'time': (['time'], air_now_df.index.values), \n",
    "                            'label': (['time'], np.array(air_now_df['CategoryNumber'].values))})\n",
    "# Input data path\n",
    "input_merra_path = '/lcrc/group/earthscience/rjackson/MERRA2/hou_reduced/'"
   ]
  },
  {
   "cell_type": "markdown",
   "id": "8487cd07-60a8-47ec-ba64-1b41e1185116",
   "metadata": {},
   "source": [
    "This next block of code loads the cropped MERRA2 dataset. \n",
    "\n",
    "load_data takes in a list of aerosol species as inputs. The aerosol species are the abbreviations used in the MERRA2 dataset (i.e. BC, SO4, SO2, DU, SS, OC, etc.). In addition, the *test_data_size* parameter specifies the fraction of the dataset to be set aside as a testing dataset for training.\n",
    "\n",
    "The returned parameters from load_data are:\n",
    "\n",
    "   * x_dataset_train, x_dataset_test, x_validation: Dictionaries containing the test, training, and validation dataset inputs.\n",
    "   * y_train, y_test, y_validation: The training and test labels corresponding to x_dataset\n",
    "   * shape: The shape of the input x data.\n",
    "   \n",
    "The default setting is to split the data into an 80-10-10 training-testing-validation split. To safeguard against data leakage, we specify a random seed of 3 when making this split so that the same random split is generated each time we train the model. We also use the imblearn package to perform oversampling on the Moderate AQI class data. This will correct the data imbalance between the Good and Moderate cases and therefore will help the model not be overfit to the majority class. The oversampling indices are first saved when the first feature is loaded then these same indices are used for each input feature. The oversampling is only applied to the training data.\n",
    "\n",
    "In addition, training CNNs requires that the input datasets have equal mean and standard deviation so that one feature is not favored in the training. Therefore, we apply scikit-learn's StandardScaler to standardize the inputs before training."
   ]
  },
  {
   "cell_type": "code",
   "execution_count": 14,
   "id": "e8f060af-adf4-4dbe-b3c4-e83e998ffdb1",
   "metadata": {},
   "outputs": [],
   "source": [
    "sample_indices = None\n",
    "def load_data(species):\n",
    "    ds = xr.open_mfdataset('/lcrc/group/earthscience/rjackson/MERRA2/hou_extended/%sSMASS*.nc' % species)\n",
    "    print(ds)\n",
    "    times = np.array(list(map(pd.to_datetime, ds.time.values)))\n",
    "    try:\n",
    "        x = ds[\"%sSMASS25\" % species].values * 1e9\n",
    "    except KeyError:\n",
    "        x = ds[\"%sSMASS\" % species].values * 1e9\n",
    "\n",
    "    old_shape = x.shape\n",
    "    scaler = StandardScaler()\n",
    "    scaler.fit(np.reshape(x, (old_shape[0], old_shape[1] * old_shape[2])))\n",
    "    x = scaler.transform(\n",
    "            np.reshape(x, (old_shape[0], old_shape[1] * old_shape[2])))\n",
    "    x = np.reshape(x, old_shape)\n",
    "    air_now_label = globals()[\"air_now_label\"].reindex(\n",
    "        time=ds.time, method='nearest', tolerance=np.timedelta64(1, 'D'))\n",
    "    classification = air_now_label[\"label\"].values.astype(float)\n",
    "    where_valid = np.isfinite(classification)\n",
    "    x = x[where_valid, :, :]\n",
    "    classification = classification[where_valid] - 1\n",
    "    y = tf.one_hot(classification, 2).numpy()\n",
    "    # Ensure that oversampling indicies are the same for each feature\n",
    "    x_train, x_test, y_train, y_test = train_test_split(\n",
    "            x, y, test_size=0.20, random_state=3)\n",
    "    print(sample_indices)\n",
    "    if sample_indices is None:\n",
    "        ros = RandomOverSampler(random_state=42)\n",
    "        shape = x_train.shape\n",
    "        x_train = x_train.reshape((x_train.shape[0], x_train.shape[1]*x_train.shape[2]))\n",
    "        x_train, y_train = ros.fit_resample(x_train, y_train.argmax(axis=1))\n",
    "        y_train = tf.one_hot(y_train, 2).numpy()\n",
    "        globals()[\"sample_indices\"] = ros.sample_indices_\n",
    "        x_train = x_train.reshape((x_train.shape[0], shape[1], shape[2]))\n",
    "    else:\n",
    "        x_train = x_train[sample_indices, :, :]\n",
    "        y_train = y_train[sample_indices, :]\n",
    "\n",
    "    x_test, x_validation, y_test, y_validation = train_test_split(x_test, y_test, test_size=0.50, random_state=3)\n",
    "    x_dataset_train = {'input_%sSMASS' % species: np.squeeze(x_train)}\n",
    "    x_dataset_test = {'input_%sSMASS' % species: np.squeeze(x_test)}\n",
    "    x_validation = {'input_%sSMASS' % species: np.squeeze(x_validation)}\n",
    "    shape = x_train.shape\n",
    "    return x_dataset_train, x_dataset_test, x_validation, y_train, y_test, y_validation, shape\n"
   ]
  },
  {
   "cell_type": "markdown",
   "id": "b31dea24",
   "metadata": {},
   "source": [
    "Construct the parallel CNN model. This procedure takes in 3 parameters:\n",
    "\n",
    "   * shape: the shape of the input data as a tuple\n",
    "   * the_dict: A dictionary containing the model hyperparameters\n",
    "   * dataset: The input dataset returned by *load_data*\n",
    "   \n",
    "The feature extractor is structured like this for each feature:\n",
    "\n",
    "<img src=\"feature_extractor.png\" alt=\"drawing\" width=\"1000\"/>\n",
    "\n",
    "$L^{2}$ regularization with a weight of 20 is applied to the input layer to penalize very large differences between adjacent pixels. For the inner layers, the $L^{2}$ regularization term has a weight of 0.05 since it is less important that we penalize large differences between adjacent features. This helps increase numerical stability of the back-propogation."
   ]
  },
  {
   "cell_type": "code",
   "execution_count": 5,
   "id": "55edbb74-3ef0-4cb4-8c0d-6d718e91a33e",
   "metadata": {},
   "outputs": [],
   "source": [
    "def classifier_model(shape, the_dict, dataset):\n",
    "    width = shape[2]\n",
    "    height = shape[1]\n",
    "    mpool_1s = []\n",
    "    in_layers = []\n",
    "    dict_keys = list(dataset.keys())\n",
    "    for j in range(len(dict_keys)):\n",
    "        inp_layer = Input(shape=(height, width, 1), name=dict_keys[j])\n",
    "        mpool_1 = inp_layer\n",
    "        in_layers.append(inp_layer)\n",
    "        for i in range(the_dict['num_layers']):\n",
    "            if i == 0:\n",
    "                val = 20\n",
    "            else:\n",
    "                val = 0.01\n",
    "            conv2d_1 = Conv2D(the_dict['num_channels'],\n",
    "                (2, 2), activation=the_dict['activation'], padding='same',\n",
    "                kernel_initializer='he_normal',\n",
    "                kernel_regularizer=l2(val))(mpool_1)\n",
    "            conv2d_1 = BatchNormalization()(conv2d_1)\n",
    "            mpool_1 = MaxPooling2D((2, 2))(conv2d_1)\n",
    "        mpool_1s.append(Flatten()(mpool_1))\n",
    "    flat_1 = Add()(mpool_1s)\n",
    "\n",
    "    for i in range(the_dict['num_dense_layers']):\n",
    "        flat_1 = Dense(the_dict['num_dense_nodes'], activation='relu', kernel_regularizer=l2(0.01),\n",
    "                )(flat_1)\n",
    "        flat_1 = BatchNormalization()(flat_1)\n",
    "\n",
    "    output = Dense(2, activation=\"softmax\", name=\"class\")(flat_1)\n",
    "\n",
    "    return Model(in_layers, output)\n"
   ]
  },
  {
   "cell_type": "markdown",
   "id": "07fae491-3fd3-47f5-8202-caf43ead4ade",
   "metadata": {},
   "source": [
    "Do the model training and data loading. Model will train until there has been no change in validation accuracy for 30 epochs. The training will also divide the learning rate by 10 when there is a plateau of validation loss for 10 epochs. These help both prevent overfitting as well as improve model accuracy."
   ]
  },
  {
   "cell_type": "code",
   "execution_count": 59,
   "id": "5ac7d230",
   "metadata": {},
   "outputs": [],
   "source": [
    "def run(config: dict):\n",
    "    x_ds_train = {}\n",
    "    x_ds_test = {}\n",
    "    x_ds_valid = {}\n",
    "    y_train = []\n",
    "    y_test = []\n",
    "    y_valid = []\n",
    "    species_list = ['SS', 'SO4', 'OC', 'DU', 'BC']\n",
    "    for species in species_list:\n",
    "        print(species)\n",
    "        x_ds_train1, x_ds_test1, x_ds_valid1, y_train, y_test, y_valid, shape = load_data(species)\n",
    "        x_ds_train.update(x_ds_train1)\n",
    "        x_ds_test.update(x_ds_test1)\n",
    "        x_ds_valid.update(x_ds_valid1)\n",
    "    model = classifier_model(shape, config, x_ds_test)\n",
    "    model.compile(optimizer=Adam(lr=config[\"learning_rate\"]),\n",
    "        loss=\"binary_crossentropy\", metrics=['acc'])\n",
    "    model.summary()\n",
    "    #class_weights = {0: 1 / no_good * (total / 2.0), 1: 1 / no_moderate * (total / 2.0)}\n",
    "    # AQI classes inbalanced, need weights\n",
    "    history = model.fit(\n",
    "            x_ds_train, y_train, \n",
    "            validation_data=(x_ds_test, y_test), epochs=config[\"num_epochs\"],\n",
    "            batch_size=config[\"batch_size\"],\n",
    "            callbacks=[EarlyStopping(patience=30, monitor=\"val_acc\", mode=\"max\"), ReduceLROnPlateau(),\n",
    "                ModelCheckpoint('my_model', save_freq=50, save_weights_only=True)])\n",
    "    model.save('my_model' % (site, lag))\n",
    "    \n",
    "    return history.history"
   ]
  },
  {
   "cell_type": "markdown",
   "id": "2f1ee918-a833-4781-ba40-392f5b5caf48",
   "metadata": {},
   "source": [
    "Call the model training code. "
   ]
  },
  {
   "cell_type": "code",
   "execution_count": null,
   "id": "915325d9-784d-49a0-851c-93fe664d553a",
   "metadata": {},
   "outputs": [],
   "source": [
    "default_config = {\n",
    "        \"num_epochs\": 400,\n",
    "        \"num_channels\": 128,\n",
    "        \"learning_rate\": 0.0001,\n",
    "        \"num_dense_nodes\": 64,\n",
    "        \"num_dense_layers\": 3,\n",
    "        \"activation\": \"relu\",\n",
    "        \"batch_size\": 16,\n",
    "        \"num_layers\": 2}\n",
    "\n",
    "history = run(default_config)"
   ]
  },
  {
   "cell_type": "markdown",
   "id": "f81a6b5c-ea1d-48d8-be4a-37828528aade",
   "metadata": {},
   "source": [
    "## Evaluate model\n",
    "\n",
    "Here we evaluate the performance of the train model on the validation data. First, load the data and the model."
   ]
  },
  {
   "cell_type": "code",
   "execution_count": 15,
   "id": "c9526355-c1bd-4461-bfc3-5def0b72b2a2",
   "metadata": {},
   "outputs": [
    {
     "name": "stdout",
     "output_type": "stream",
     "text": [
      "SS\n",
      "<xarray.Dataset>\n",
      "Dimensions:    (lon: 17, lat: 21, time: 113952)\n",
      "Coordinates:\n",
      "  * lon        (lon) float64 -100.0 -99.38 -98.75 -98.12 ... -91.25 -90.62 -90.0\n",
      "  * lat        (lat) float64 25.0 25.5 26.0 26.5 27.0 ... 33.5 34.0 34.5 35.0\n",
      "  * time       (time) datetime64[ns] 2010-01-01T00:30:00 ... 2022-12-31T23:30:00\n",
      "Data variables:\n",
      "    SSSMASS    (time, lat, lon) float32 dask.array<chunksize=(8760, 21, 17), meta=np.ndarray>\n",
      "    SSSMASS25  (time, lat, lon) float32 dask.array<chunksize=(8760, 21, 17), meta=np.ndarray>\n"
     ]
    },
    {
     "name": "stderr",
     "output_type": "stream",
     "text": [
      "2023-06-21 18:40:06.762685: I tensorflow/core/platform/cpu_feature_guard.cc:151] This TensorFlow binary is optimized with oneAPI Deep Neural Network Library (oneDNN) to use the following CPU instructions in performance-critical operations:  SSE4.1 SSE4.2 AVX AVX2 FMA\n",
      "To enable them in other operations, rebuild TensorFlow with the appropriate compiler flags.\n",
      "2023-06-21 18:40:10.507945: I tensorflow/core/common_runtime/gpu/gpu_device.cc:1525] Created device /job:localhost/replica:0/task:0/device:GPU:0 with 38396 MB memory:  -> device: 0, name: NVIDIA A100-SXM4-40GB, pci bus id: 0000:07:00.0, compute capability: 8.0\n"
     ]
    },
    {
     "name": "stdout",
     "output_type": "stream",
     "text": [
      "None\n",
      "SO4\n",
      "<xarray.Dataset>\n",
      "Dimensions:   (lon: 17, lat: 21, time: 113952)\n",
      "Coordinates:\n",
      "  * lon       (lon) float64 -100.0 -99.38 -98.75 -98.12 ... -91.25 -90.62 -90.0\n",
      "  * lat       (lat) float64 25.0 25.5 26.0 26.5 27.0 ... 33.5 34.0 34.5 35.0\n",
      "  * time      (time) datetime64[ns] 2010-01-01T00:30:00 ... 2022-12-31T23:30:00\n",
      "Data variables:\n",
      "    SO4SMASS  (time, lat, lon) float32 dask.array<chunksize=(8760, 21, 17), meta=np.ndarray>\n",
      "[    0     1     2 ... 62188 65126 30657]\n",
      "OC\n",
      "<xarray.Dataset>\n",
      "Dimensions:  (lon: 17, lat: 21, time: 113952)\n",
      "Coordinates:\n",
      "  * lon      (lon) float64 -100.0 -99.38 -98.75 -98.12 ... -91.25 -90.62 -90.0\n",
      "  * lat      (lat) float64 25.0 25.5 26.0 26.5 27.0 ... 33.0 33.5 34.0 34.5 35.0\n",
      "  * time     (time) datetime64[ns] 2010-01-01T00:30:00 ... 2022-12-31T23:30:00\n",
      "Data variables:\n",
      "    OCSMASS  (time, lat, lon) float32 dask.array<chunksize=(8760, 21, 17), meta=np.ndarray>\n",
      "[    0     1     2 ... 62188 65126 30657]\n",
      "DU\n",
      "<xarray.Dataset>\n",
      "Dimensions:    (lon: 17, lat: 21, time: 113952)\n",
      "Coordinates:\n",
      "  * lon        (lon) float64 -100.0 -99.38 -98.75 -98.12 ... -91.25 -90.62 -90.0\n",
      "  * lat        (lat) float64 25.0 25.5 26.0 26.5 27.0 ... 33.5 34.0 34.5 35.0\n",
      "  * time       (time) datetime64[ns] 2010-01-01T00:30:00 ... 2022-12-31T23:30:00\n",
      "Data variables:\n",
      "    DUSMASS    (time, lat, lon) float32 dask.array<chunksize=(8760, 21, 17), meta=np.ndarray>\n",
      "    DUSMASS25  (time, lat, lon) float32 dask.array<chunksize=(8760, 21, 17), meta=np.ndarray>\n",
      "[    0     1     2 ... 62188 65126 30657]\n",
      "BC\n",
      "<xarray.Dataset>\n",
      "Dimensions:  (lon: 17, lat: 21, time: 113952)\n",
      "Coordinates:\n",
      "  * lon      (lon) float64 -100.0 -99.38 -98.75 -98.12 ... -91.25 -90.62 -90.0\n",
      "  * lat      (lat) float64 25.0 25.5 26.0 26.5 27.0 ... 33.0 33.5 34.0 34.5 35.0\n",
      "  * time     (time) datetime64[ns] 2010-01-01T00:30:00 ... 2022-12-31T23:30:00\n",
      "Data variables:\n",
      "    BCSMASS  (time, lat, lon) float32 dask.array<chunksize=(8760, 21, 17), meta=np.ndarray>\n",
      "[    0     1     2 ... 62188 65126 30657]\n"
     ]
    }
   ],
   "source": [
    "x_ds_train = {}\n",
    "x_ds_test = {}\n",
    "x_ds_valid = {}\n",
    "y_train = []\n",
    "y_test = []\n",
    "y_valid = []\n",
    "species_list = ['SS', 'SO4', 'OC', 'DU', 'BC']\n",
    "for species in species_list:\n",
    "    print(species)\n",
    "    x_ds_train1, x_ds_test1, x_ds_valid1, y_train, y_test, y_valid, shape = load_data(species)\n",
    "    x_ds_train.update(x_ds_train1)\n",
    "    x_ds_test.update(x_ds_test1)\n",
    "    x_ds_valid.update(x_ds_valid1)"
   ]
  },
  {
   "cell_type": "code",
   "execution_count": 16,
   "id": "280c34aa-26a8-430b-9d64-e77686ab47bf",
   "metadata": {},
   "outputs": [],
   "source": [
    "model = load_model('../../opencrums/models/classifier-hou-lag-2class-surface-mass-only-0')"
   ]
  },
  {
   "cell_type": "markdown",
   "id": "b43896f1-3eff-4040-a8c2-97bd2c6bd43d",
   "metadata": {},
   "source": [
    "Now plot the confusion matrix using scikit-learn's *ConfusionMatrixDisplay* class and the *confusion_matrix* method for generating confusion matrices. Confusion matrices show the performance of the model for each class and therefore give a fuller picture of model performance compared to accuracy. In an imbalanced dataset such as this, high accuracy values may not necessarily mean that the model is predicting the output class well if a majority of the dataset belongs to one class. Therefore, using confusion matrices, precision, and recall will provide a more honest picture of model performance for these imbalanced datasets.\n",
    "\n",
    "However, as we can see here, this model is an extremely good predictor of the data."
   ]
  },
  {
   "cell_type": "code",
   "execution_count": 17,
   "id": "a2156b22-805f-412f-b588-14360cc06d1a",
   "metadata": {},
   "outputs": [
    {
     "name": "stderr",
     "output_type": "stream",
     "text": [
      "2023-06-21 18:41:53.454634: I tensorflow/stream_executor/cuda/cuda_dnn.cc:366] Loaded cuDNN version 8201\n",
      "2023-06-21 18:41:58.029549: I tensorflow/core/platform/default/subprocess.cc:304] Start cannot spawn child process: No such file or directory\n",
      "2023-06-21 18:42:03.508516: I tensorflow/stream_executor/cuda/cuda_blas.cc:1774] TensorFloat-32 will be used for the matrix multiplication. This will only be logged once.\n"
     ]
    },
    {
     "data": {
      "text/plain": [
       "<sklearn.metrics._plot.confusion_matrix.ConfusionMatrixDisplay at 0x14cc84ac8a90>"
      ]
     },
     "execution_count": 17,
     "metadata": {},
     "output_type": "execute_result"
    },
    {
     "data": {
      "image/png": "[encoded data removed]",
      "text/plain": [
       "<Figure size 432x288 with 2 Axes>"
      ]
     },
     "metadata": {
      "needs_background": "light"
     },
     "output_type": "display_data"
    }
   ],
   "source": [
    "y_valid_pred = model.predict(x_ds_valid)\n",
    "cm = confusion_matrix(y_valid.argmax(axis=1), y_valid_pred.argmax(axis=1))\n",
    "disp = ConfusionMatrixDisplay(confusion_matrix=cm,\n",
    "                           display_labels=[\"Good\", \"Moderate\"])\n",
    "disp.plot()"
   ]
  }
 ],
 "metadata": {
  "kernelspec": {
   "display_name": "Python 3 (ipykernel)",
   "language": "python",
   "name": "python3"
  },
  "language_info": {
   "codemirror_mode": {
    "name": "ipython",
    "version": 3
   },
   "file_extension": ".py",
   "mimetype": "text/x-python",
   "name": "python",
   "nbconvert_exporter": "python",
   "pygments_lexer": "ipython3",
   "version": "3.9.12"
  }
 },
 "nbformat": 4,
 "nbformat_minor": 5
}
